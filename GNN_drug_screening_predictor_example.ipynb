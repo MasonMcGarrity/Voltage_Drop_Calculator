{
  "nbformat": 4,
  "nbformat_minor": 0,
  "metadata": {
    "colab": {
      "name": "GNN-drug screening predictor_example.ipynb",
      "provenance": [],
      "collapsed_sections": [],
      "authorship_tag": "ABX9TyOrutQLX+CiVotUlNLVjOdQ",
      "include_colab_link": true
    },
    "kernelspec": {
      "name": "python3",
      "display_name": "Python 3"
    },
    "language_info": {
      "name": "python"
    }
  },
  "cells": [
    {
      "cell_type": "markdown",
      "metadata": {
        "id": "view-in-github",
        "colab_type": "text"
      },
      "source": [
        "<a href=\"https://colab.research.google.com/github/MasonMcGarrity/Voltage_Drop_Calculator/blob/master/GNN_drug_screening_predictor_example.ipynb\" target=\"_parent\"><img src=\"https://colab.research.google.com/assets/colab-badge.svg\" alt=\"Open In Colab\"/></a>"
      ]
    },
    {
      "cell_type": "code",
      "execution_count": 5,
      "metadata": {
        "colab": {
          "base_uri": "https://localhost:8080/"
        },
        "id": "8uK1LYZqgv7r",
        "outputId": "d28952db-a7cb-4e52-bbf8-b2c7687daa87"
      },
      "outputs": [
        {
          "output_type": "stream",
          "name": "stdout",
          "text": [
            "Looking in indexes: https://pypi.org/simple, https://us-python.pkg.dev/colab-wheels/public/simple/\n",
            "Collecting ogb\n",
            "  Downloading ogb-1.3.3-py3-none-any.whl (78 kB)\n",
            "\u001b[K     |████████████████████████████████| 78 kB 3.9 MB/s \n",
            "\u001b[?25hCollecting outdated>=0.2.0\n",
            "  Downloading outdated-0.2.1-py3-none-any.whl (7.5 kB)\n",
            "Requirement already satisfied: scikit-learn>=0.20.0 in /usr/local/lib/python3.7/dist-packages (from ogb) (1.0.2)\n",
            "Requirement already satisfied: six>=1.12.0 in /usr/local/lib/python3.7/dist-packages (from ogb) (1.15.0)\n",
            "Requirement already satisfied: pandas>=0.24.0 in /usr/local/lib/python3.7/dist-packages (from ogb) (1.3.5)\n",
            "Requirement already satisfied: torch>=1.6.0 in /usr/local/lib/python3.7/dist-packages (from ogb) (1.12.0+cu113)\n",
            "Requirement already satisfied: urllib3>=1.24.0 in /usr/local/lib/python3.7/dist-packages (from ogb) (1.24.3)\n",
            "Requirement already satisfied: numpy>=1.16.0 in /usr/local/lib/python3.7/dist-packages (from ogb) (1.21.6)\n",
            "Requirement already satisfied: tqdm>=4.29.0 in /usr/local/lib/python3.7/dist-packages (from ogb) (4.64.0)\n",
            "Collecting littleutils\n",
            "  Downloading littleutils-0.2.2.tar.gz (6.6 kB)\n",
            "Requirement already satisfied: requests in /usr/local/lib/python3.7/dist-packages (from outdated>=0.2.0->ogb) (2.23.0)\n",
            "Requirement already satisfied: python-dateutil>=2.7.3 in /usr/local/lib/python3.7/dist-packages (from pandas>=0.24.0->ogb) (2.8.2)\n",
            "Requirement already satisfied: pytz>=2017.3 in /usr/local/lib/python3.7/dist-packages (from pandas>=0.24.0->ogb) (2022.1)\n",
            "Requirement already satisfied: joblib>=0.11 in /usr/local/lib/python3.7/dist-packages (from scikit-learn>=0.20.0->ogb) (1.1.0)\n",
            "Requirement already satisfied: threadpoolctl>=2.0.0 in /usr/local/lib/python3.7/dist-packages (from scikit-learn>=0.20.0->ogb) (3.1.0)\n",
            "Requirement already satisfied: scipy>=1.1.0 in /usr/local/lib/python3.7/dist-packages (from scikit-learn>=0.20.0->ogb) (1.7.3)\n",
            "Requirement already satisfied: typing-extensions in /usr/local/lib/python3.7/dist-packages (from torch>=1.6.0->ogb) (4.1.1)\n",
            "Requirement already satisfied: idna<3,>=2.5 in /usr/local/lib/python3.7/dist-packages (from requests->outdated>=0.2.0->ogb) (2.10)\n",
            "Requirement already satisfied: chardet<4,>=3.0.2 in /usr/local/lib/python3.7/dist-packages (from requests->outdated>=0.2.0->ogb) (3.0.4)\n",
            "Requirement already satisfied: certifi>=2017.4.17 in /usr/local/lib/python3.7/dist-packages (from requests->outdated>=0.2.0->ogb) (2022.6.15)\n",
            "Building wheels for collected packages: littleutils\n",
            "  Building wheel for littleutils (setup.py) ... \u001b[?25l\u001b[?25hdone\n",
            "  Created wheel for littleutils: filename=littleutils-0.2.2-py3-none-any.whl size=7048 sha256=b1df6c54f1023ba63b35bd9e5b95d4df0ccd0e3da0a50a375fd09bb445a38a47\n",
            "  Stored in directory: /root/.cache/pip/wheels/d6/64/cd/32819b511a488e4993f2fab909a95330289c3f4e0f6ef4676d\n",
            "Successfully built littleutils\n",
            "Installing collected packages: littleutils, outdated, ogb\n",
            "Successfully installed littleutils-0.2.2 ogb-1.3.3 outdated-0.2.1\n",
            "Looking in indexes: https://pypi.org/simple, https://us-python.pkg.dev/colab-wheels/public/simple/\n",
            "Collecting optax\n",
            "  Downloading optax-0.1.3-py3-none-any.whl (145 kB)\n",
            "\u001b[K     |████████████████████████████████| 145 kB 7.4 MB/s \n",
            "\u001b[?25hRequirement already satisfied: numpy>=1.18.0 in /usr/local/lib/python3.7/dist-packages (from optax) (1.21.6)\n",
            "Collecting chex>=0.0.4\n",
            "  Downloading chex-0.1.3-py3-none-any.whl (72 kB)\n",
            "\u001b[K     |████████████████████████████████| 72 kB 596 kB/s \n",
            "\u001b[?25hRequirement already satisfied: typing-extensions>=3.10.0 in /usr/local/lib/python3.7/dist-packages (from optax) (4.1.1)\n",
            "Requirement already satisfied: jaxlib>=0.1.37 in /usr/local/lib/python3.7/dist-packages (from optax) (0.3.14+cuda11.cudnn805)\n",
            "Requirement already satisfied: jax>=0.1.55 in /usr/local/lib/python3.7/dist-packages (from optax) (0.3.14)\n",
            "Requirement already satisfied: absl-py>=0.7.1 in /usr/local/lib/python3.7/dist-packages (from optax) (1.2.0)\n",
            "Requirement already satisfied: toolz>=0.9.0 in /usr/local/lib/python3.7/dist-packages (from chex>=0.0.4->optax) (0.12.0)\n",
            "Requirement already satisfied: dm-tree>=0.1.5 in /usr/local/lib/python3.7/dist-packages (from chex>=0.0.4->optax) (0.1.7)\n",
            "Requirement already satisfied: scipy>=1.5 in /usr/local/lib/python3.7/dist-packages (from jax>=0.1.55->optax) (1.7.3)\n",
            "Requirement already satisfied: opt-einsum in /usr/local/lib/python3.7/dist-packages (from jax>=0.1.55->optax) (3.3.0)\n",
            "Requirement already satisfied: etils[epath] in /usr/local/lib/python3.7/dist-packages (from jax>=0.1.55->optax) (0.6.0)\n",
            "Requirement already satisfied: flatbuffers<3.0,>=1.12 in /usr/local/lib/python3.7/dist-packages (from jaxlib>=0.1.37->optax) (2.0)\n",
            "Requirement already satisfied: zipp in /usr/local/lib/python3.7/dist-packages (from etils[epath]->jax>=0.1.55->optax) (3.8.1)\n",
            "Requirement already satisfied: importlib_resources in /usr/local/lib/python3.7/dist-packages (from etils[epath]->jax>=0.1.55->optax) (5.9.0)\n",
            "Installing collected packages: chex, optax\n",
            "Successfully installed chex-0.1.3 optax-0.1.3\n"
          ]
        }
      ],
      "source": [
        "!pip install ogb\n",
        "!pip install optax"
      ]
    },
    {
      "cell_type": "code",
      "source": [
        "from ogb.graphproppred import GraphPropPredDataset\n",
        "\n",
        "dataset = GraphPropPredDataset(name='ogbg-molhiv')\n",
        "\n",
        "graph, label = dataset[0]\n",
        "print('Keys are', graph.keys())\n",
        "print('Label is', label)\n"
      ],
      "metadata": {
        "colab": {
          "base_uri": "https://localhost:8080/"
        },
        "id": "sJjLqDTMhVF9",
        "outputId": "0f035070-746b-46d2-be31-c13d884c9226"
      },
      "execution_count": 6,
      "outputs": [
        {
          "output_type": "stream",
          "name": "stdout",
          "text": [
            "Downloading http://snap.stanford.edu/ogb/data/graphproppred/csv_mol_download/hiv.zip\n"
          ]
        },
        {
          "output_type": "stream",
          "name": "stderr",
          "text": [
            "Downloaded 0.00 GB: 100%|██████████| 3/3 [00:00<00:00,  8.59it/s]\n"
          ]
        },
        {
          "output_type": "stream",
          "name": "stdout",
          "text": [
            "Extracting dataset/hiv.zip\n",
            "Loading necessary files...\n",
            "This might take a while.\n",
            "Processing graphs...\n"
          ]
        },
        {
          "output_type": "stream",
          "name": "stderr",
          "text": [
            "100%|██████████| 41127/41127 [00:01<00:00, 34731.72it/s]\n"
          ]
        },
        {
          "output_type": "stream",
          "name": "stdout",
          "text": [
            "Saving...\n",
            "Keys are dict_keys(['edge_index', 'edge_feat', 'node_feat', 'num_nodes'])\n",
            "Label is [0]\n"
          ]
        }
      ]
    },
    {
      "cell_type": "code",
      "source": [
        "print(graph['num_nodes']) # number of atoms in the molecule\n",
        "print(graph['node_feat'].shape) # matrix of node specific features (atomic number, weight, etc.)\n",
        "print(graph['edge_feat'].shape) # matrix of edge specific features (atomic number, weight, etc.)\n",
        "print(graph['edge_index'].shape) # maps which atoms (nodes) are connected to which bonds (edges)"
      ],
      "metadata": {
        "colab": {
          "base_uri": "https://localhost:8080/"
        },
        "id": "jtCus7XmpKaM",
        "outputId": "400b6b2b-6455-44cb-d74e-a2d3ccba3e1c"
      },
      "execution_count": 7,
      "outputs": [
        {
          "output_type": "stream",
          "name": "stdout",
          "text": [
            "19\n",
            "(19, 9)\n",
            "(40, 3)\n",
            "(2, 40)\n"
          ]
        }
      ]
    },
    {
      "cell_type": "code",
      "source": [
        "print(graph['node_feat'][:5, :]) # print first 5 nodes and all of their associated features\n",
        "print(graph['edge_feat'][:5, :]) # print first 5 edges and all of their associated features"
      ],
      "metadata": {
        "colab": {
          "base_uri": "https://localhost:8080/"
        },
        "id": "kUgNFLLAqy_P",
        "outputId": "1afde320-26b2-4e34-9a07-8ca683a693f9"
      },
      "execution_count": 8,
      "outputs": [
        {
          "output_type": "stream",
          "name": "stdout",
          "text": [
            "[[ 5  0  4  5  3  0  2  0  0]\n",
            " [ 5  0  4  5  2  0  2  0  0]\n",
            " [ 5  0  3  5  0  0  1  0  1]\n",
            " [ 7  0  2  6  0  0  1  0  1]\n",
            " [28  0  4  2  0  0  5  0  1]]\n",
            "[[0 0 0]\n",
            " [0 0 0]\n",
            " [0 0 0]\n",
            " [0 0 0]\n",
            " [1 0 0]]\n"
          ]
        }
      ]
    },
    {
      "cell_type": "code",
      "source": [
        "# convert to adj matrix (19x19) \n",
        "print(graph['edge_index'])"
      ],
      "metadata": {
        "colab": {
          "base_uri": "https://localhost:8080/"
        },
        "id": "KdOxxTTdsKY8",
        "outputId": "72840d4a-9f94-47b7-9029-5dcbde880b9d"
      },
      "execution_count": 9,
      "outputs": [
        {
          "output_type": "stream",
          "name": "stdout",
          "text": [
            "[[ 0  1  1  2  2  3  3  4  4  5  5  6  6  7  7  8  6  9  4 10 10 11 11 12\n",
            "  12 13 11 14 14 15 15 16 16 17 15 18  9  2 18  4]\n",
            " [ 1  0  2  1  3  2  4  3  5  4  6  5  7  6  8  7  9  6 10  4 11 10 12 11\n",
            "  13 12 14 11 15 14 16 15 17 16 18 15  2  9  4 18]]\n"
          ]
        }
      ]
    },
    {
      "cell_type": "code",
      "source": [
        "import numpy as np\n",
        "\n",
        "def convert_edge_index_to_matrix(edge_index, nb_nodes):\n",
        "  adj_mat = np.eye(nb_nodes)\n",
        "  for i in range(edge_index.shape[1]):\n",
        "    adj_mat[edge_index[0,i], edge_index[1,i]] = 1.0\n",
        "  return adj_mat / np.sum(adj_mat, axis=-1, keepdims=True)\n",
        "\n",
        "print(convert_edge_index_to_matrix(graph['edge_index'], graph['num_nodes']))"
      ],
      "metadata": {
        "id": "6nTdVLplz5mM"
      },
      "execution_count": null,
      "outputs": []
    },
    {
      "cell_type": "code",
      "source": [
        "from jax._src.nn.functions import log_sigmoid\n",
        "import jax\n",
        "import jax.numpy as jnp\n",
        "\n",
        "@jax.jit\n",
        "def simple_gnn_layer(weights, features, adj_matrix):\n",
        "  latent = jnp.matmul(features, weights) # (N x H) * (H x H') -> (N x H')\n",
        "  latent = jnp.matmul(adj_matrix, latent) # (N x N) * (N x H') -> (N x H')\n",
        "  latent = jax.nn.relu(latent)\n",
        "  return latent\n",
        "\n",
        "@jax.jit\n",
        "def network(params, features, adj_matrix):\n",
        "  latent = features\n",
        "  for layer in range(len(params) - 1):\n",
        "    latent = simple_gnn_layer(params[layer], latent, adj_matrix) # (N x H)\n",
        "  g_features = jnp.mean(latent, axis=0) # (H,)\n",
        "  logits = jnp.matmul(g_features, params[-1]) # (1,)\n",
        "  return logits"
      ],
      "metadata": {
        "id": "LNOOm3P8ii3Z"
      },
      "execution_count": 13,
      "outputs": []
    },
    {
      "cell_type": "code",
      "source": [
        "@jax.jit\n",
        "def binary_cross_entropy(logits, labels):\n",
        "  max_val = jnp.clip(logits, 0, None)\n",
        "  loss = logits - logits * labels + max_val + jnp.log(jnp.exp(-max_val) + jnp.exp((-logits - max_val)))\n",
        "  return jnp.mean(loss)\n",
        "\n",
        "@jax.jit\n",
        "def _loss(params, features, adj_matrix, labels):\n",
        "  logits = network(params, features, adj_matrix)\n",
        "  return binary_cross_entropy(logits, labels)\n",
        "\n",
        "@jax.jit\n",
        "def accuracy(logits, labels):\n",
        "  return jnp.mean((logits > 0.0) == (labels > 0.5))"
      ],
      "metadata": {
        "id": "IC_UbJZrkJuX"
      },
      "execution_count": 16,
      "outputs": []
    },
    {
      "cell_type": "code",
      "source": [
        "import optax\n",
        "\n",
        "split_idx = dataset.get_idx_split()\n",
        "train_idx, val_idx = split_idx['train'], split_idx['valid']\n",
        "input_dim = graph['node_feat'].shape[1]\n",
        "\n",
        "def train(hidden_dim, nb_layers, epochs, learning_rate):\n",
        "  params = []\n",
        "  params.append(np.random.randn(input_dim, hidden_dim) / np.sqrt(input_dim))\n",
        "  for i in range(nb_layers - 2):\n",
        "    params.append(np.random.randn(hidden_dim, hidden_dim) / np.sqrt(hidden_dim))\n",
        "  params.append(np.random.randn(hidden_dim, 1) / np.sqrt(hidden_dim))\n",
        "\n",
        "  opt = optax.adam(learning_rate = learning_rate)\n",
        "  opt_state = opt.init(params)\n",
        "\n",
        "  @jax.jit\n",
        "  def _step(params, opt_state, features, adj_matrix, labels):\n",
        "    loss, grads = jax.value_and_grad(_loss)(\n",
        "        params, features, adj_matrix, labels)\n",
        "    updates, opt_state = opt.update(grads, opt_state, params)\n",
        "    params = optax.apply_updates(params, updates)\n",
        "    return params, opt_state, loss\n",
        "  \n",
        "  ep = 0\n",
        "  step = 0\n",
        "  while ep < epochs:\n",
        "    for idx in train_idx:\n",
        "      graph, label = dataset[idx]\n",
        "      node_fts = graph['node_feat']\n",
        "      nb_nodes = graph['num_nodes']\n",
        "      adj_mat = convert_edge_index_to_matrix(graph['edge_index'], nb_nodes)\n",
        "      params, opt_state, loss = _step(\n",
        "          params, opt_state, node_fts, adj_mat, label\n",
        "      )\n",
        "      if step % 1000 == 0:\n",
        "        print(f'step = {step} | loss = {loss}')\n",
        "      step += 1\n",
        "    val_preds = []\n",
        "    val_labels = []\n",
        "\n",
        "    for idx in val_idx:\n",
        "      graph, label = dataset[idx]\n",
        "      node_fts = graph['node_feat']\n",
        "      nb_nodes = graph['num_nodes']\n",
        "      adj_mat = convert_edge_index_to_matrix(graph['edge_index'], nb_nodes)\n",
        "      val_preds.append(network(params, node_fts, adj_mat)[0])\n",
        "      val_labels.append(label)\n",
        "      \n",
        "      val_accuracy = accuracy(jnp.array(val_preds), jnp.array(val_labels))\n",
        "      print(f'epoch = {ep} | validation accuracy = {val_accuracy}')\n",
        "      ep += 1\n",
        "    return params\n"
      ],
      "metadata": {
        "id": "e1tSeL4Volis"
      },
      "execution_count": 24,
      "outputs": []
    },
    {
      "cell_type": "code",
      "source": [
        "trained_model = train(hidden_dim=32, nb_layers=2, epochs=1, learning_rate=0.001)"
      ],
      "metadata": {
        "colab": {
          "base_uri": "https://localhost:8080/",
          "height": 1000
        },
        "id": "m-ySTz9Ru_AB",
        "outputId": "d3d8b148-36a7-42ea-c1a2-38cd93ea7aae"
      },
      "execution_count": 25,
      "outputs": [
        {
          "output_type": "stream",
          "name": "stdout",
          "text": [
            "step = 0 | loss = 0.1686023473739624\n",
            "step = 1000 | loss = 0.0031890869140625\n",
            "step = 2000 | loss = 0.7986105680465698\n",
            "step = 3000 | loss = 0.018899917602539062\n",
            "step = 4000 | loss = 0.01710796356201172\n",
            "step = 5000 | loss = 0.020083189010620117\n",
            "step = 6000 | loss = 0.0099334716796875\n",
            "step = 7000 | loss = 0.02661895751953125\n",
            "step = 8000 | loss = 0.05436968803405762\n",
            "step = 9000 | loss = 0.00028514862060546875\n",
            "step = 10000 | loss = 0.011708259582519531\n",
            "step = 11000 | loss = 0.003948211669921875\n",
            "step = 12000 | loss = 0.024353742599487305\n",
            "step = 13000 | loss = 0.012382030487060547\n",
            "step = 14000 | loss = 0.035665273666381836\n",
            "step = 15000 | loss = 0.03080010414123535\n",
            "step = 16000 | loss = 0.028402090072631836\n",
            "step = 17000 | loss = 0.08956146240234375\n",
            "step = 18000 | loss = 0.027631521224975586\n",
            "step = 19000 | loss = 0.020893573760986328\n",
            "step = 20000 | loss = 0.06587958335876465\n",
            "step = 21000 | loss = 0.012414932250976562\n",
            "step = 22000 | loss = 0.020708084106445312\n",
            "step = 23000 | loss = 0.04844260215759277\n",
            "step = 24000 | loss = 0.017074108123779297\n",
            "step = 25000 | loss = 0.0352025032043457\n",
            "step = 26000 | loss = 0.009546279907226562\n",
            "step = 27000 | loss = 0.01178598403930664\n",
            "step = 28000 | loss = 0.01872992515563965\n",
            "step = 29000 | loss = 0.027332067489624023\n",
            "step = 30000 | loss = 0.0373227596282959\n",
            "step = 31000 | loss = 0.055962562561035156\n",
            "step = 32000 | loss = 0.0505068302154541\n",
            "epoch = 0 | validation accuracy = 1.0\n",
            "epoch = 1 | validation accuracy = 1.0\n",
            "epoch = 2 | validation accuracy = 1.0\n",
            "epoch = 3 | validation accuracy = 1.0\n",
            "epoch = 4 | validation accuracy = 1.0\n",
            "epoch = 5 | validation accuracy = 1.0\n",
            "epoch = 6 | validation accuracy = 1.0\n",
            "epoch = 7 | validation accuracy = 1.0\n",
            "epoch = 8 | validation accuracy = 1.0\n",
            "epoch = 9 | validation accuracy = 1.0\n",
            "epoch = 10 | validation accuracy = 0.9999999403953552\n",
            "epoch = 11 | validation accuracy = 1.0\n",
            "epoch = 12 | validation accuracy = 1.0\n",
            "epoch = 13 | validation accuracy = 1.0\n",
            "epoch = 14 | validation accuracy = 1.0\n",
            "epoch = 15 | validation accuracy = 1.0\n",
            "epoch = 16 | validation accuracy = 1.0\n",
            "epoch = 17 | validation accuracy = 1.0\n",
            "epoch = 18 | validation accuracy = 1.0\n",
            "epoch = 19 | validation accuracy = 1.0\n",
            "epoch = 20 | validation accuracy = 1.0\n",
            "epoch = 21 | validation accuracy = 0.9999999403953552\n",
            "epoch = 22 | validation accuracy = 1.0\n",
            "epoch = 23 | validation accuracy = 1.0\n",
            "epoch = 24 | validation accuracy = 1.0\n",
            "epoch = 25 | validation accuracy = 1.0\n",
            "epoch = 26 | validation accuracy = 1.0\n",
            "epoch = 27 | validation accuracy = 1.0\n",
            "epoch = 28 | validation accuracy = 1.0\n",
            "epoch = 29 | validation accuracy = 1.0\n",
            "epoch = 30 | validation accuracy = 1.0\n",
            "epoch = 31 | validation accuracy = 1.0\n",
            "epoch = 32 | validation accuracy = 1.0\n",
            "epoch = 33 | validation accuracy = 1.0\n",
            "epoch = 34 | validation accuracy = 1.0\n",
            "epoch = 35 | validation accuracy = 1.0\n",
            "epoch = 36 | validation accuracy = 1.0\n",
            "epoch = 37 | validation accuracy = 1.0\n",
            "epoch = 38 | validation accuracy = 1.0\n",
            "epoch = 39 | validation accuracy = 1.0\n",
            "epoch = 40 | validation accuracy = 1.0\n",
            "epoch = 41 | validation accuracy = 1.0\n",
            "epoch = 42 | validation accuracy = 1.0\n",
            "epoch = 43 | validation accuracy = 0.9999999403953552\n",
            "epoch = 44 | validation accuracy = 1.0\n",
            "epoch = 45 | validation accuracy = 1.0\n",
            "epoch = 46 | validation accuracy = 1.0\n",
            "epoch = 47 | validation accuracy = 1.0\n",
            "epoch = 48 | validation accuracy = 1.0\n",
            "epoch = 49 | validation accuracy = 1.0\n",
            "epoch = 50 | validation accuracy = 1.0\n",
            "epoch = 51 | validation accuracy = 0.9807692170143127\n",
            "epoch = 52 | validation accuracy = 0.9811320900917053\n",
            "epoch = 53 | validation accuracy = 0.9814814925193787\n",
            "epoch = 54 | validation accuracy = 0.9818181395530701\n",
            "epoch = 55 | validation accuracy = 0.9821428656578064\n",
            "epoch = 56 | validation accuracy = 0.9824561476707458\n",
            "epoch = 57 | validation accuracy = 0.9827585816383362\n",
            "epoch = 58 | validation accuracy = 0.9830508828163147\n",
            "epoch = 59 | validation accuracy = 0.9833333492279053\n",
            "epoch = 60 | validation accuracy = 0.9836065769195557\n",
            "epoch = 61 | validation accuracy = 0.9838710427284241\n",
            "epoch = 62 | validation accuracy = 0.9841270446777344\n",
            "epoch = 63 | validation accuracy = 0.984375\n",
            "epoch = 64 | validation accuracy = 0.9846153855323792\n",
            "epoch = 65 | validation accuracy = 0.9848484992980957\n",
            "epoch = 66 | validation accuracy = 0.9850745797157288\n",
            "epoch = 67 | validation accuracy = 0.9852941632270813\n",
            "epoch = 68 | validation accuracy = 0.9855072498321533\n",
            "epoch = 69 | validation accuracy = 0.9857142567634583\n",
            "epoch = 70 | validation accuracy = 0.98591548204422\n",
            "epoch = 71 | validation accuracy = 0.9861111044883728\n",
            "epoch = 72 | validation accuracy = 0.9863013625144958\n",
            "epoch = 73 | validation accuracy = 0.986486554145813\n",
            "epoch = 74 | validation accuracy = 0.9866666793823242\n",
            "epoch = 75 | validation accuracy = 0.9868420958518982\n",
            "epoch = 76 | validation accuracy = 0.9870129823684692\n",
            "epoch = 77 | validation accuracy = 0.9871795177459717\n",
            "epoch = 78 | validation accuracy = 0.9873417615890503\n",
            "epoch = 79 | validation accuracy = 0.9874999523162842\n",
            "epoch = 80 | validation accuracy = 0.9876542687416077\n",
            "epoch = 81 | validation accuracy = 0.9878048300743103\n",
            "epoch = 82 | validation accuracy = 0.9879518151283264\n",
            "epoch = 83 | validation accuracy = 0.988095223903656\n",
            "epoch = 84 | validation accuracy = 0.9882352948188782\n",
            "epoch = 85 | validation accuracy = 0.9883720874786377\n",
            "epoch = 86 | validation accuracy = 0.9885057210922241\n",
            "epoch = 87 | validation accuracy = 0.988636314868927\n",
            "epoch = 88 | validation accuracy = 0.9887640476226807\n",
            "epoch = 89 | validation accuracy = 0.9888888597488403\n",
            "epoch = 90 | validation accuracy = 0.9890109896659851\n",
            "epoch = 91 | validation accuracy = 0.989130437374115\n",
            "epoch = 92 | validation accuracy = 0.9892472624778748\n",
            "epoch = 93 | validation accuracy = 0.9893617033958435\n",
            "epoch = 94 | validation accuracy = 0.9894737005233765\n",
            "epoch = 95 | validation accuracy = 0.9895833134651184\n",
            "epoch = 96 | validation accuracy = 0.9896907210350037\n",
            "epoch = 97 | validation accuracy = 0.9897959232330322\n",
            "epoch = 98 | validation accuracy = 0.9898989796638489\n",
            "epoch = 99 | validation accuracy = 0.9899999499320984\n",
            "epoch = 100 | validation accuracy = 0.9900990128517151\n",
            "epoch = 101 | validation accuracy = 0.9901960492134094\n",
            "epoch = 102 | validation accuracy = 0.9902912974357605\n",
            "epoch = 103 | validation accuracy = 0.9903846383094788\n",
            "epoch = 104 | validation accuracy = 0.9904761910438538\n",
            "epoch = 105 | validation accuracy = 0.9905660152435303\n",
            "epoch = 106 | validation accuracy = 0.9906541705131531\n",
            "epoch = 107 | validation accuracy = 0.9907407164573669\n",
            "epoch = 108 | validation accuracy = 0.9908257126808167\n",
            "epoch = 109 | validation accuracy = 0.9909090995788574\n",
            "epoch = 110 | validation accuracy = 0.9909909963607788\n",
            "epoch = 111 | validation accuracy = 0.9821428656578064\n",
            "epoch = 112 | validation accuracy = 0.982300877571106\n",
            "epoch = 113 | validation accuracy = 0.9824561476707458\n",
            "epoch = 114 | validation accuracy = 0.9826086759567261\n",
            "epoch = 115 | validation accuracy = 0.9827585816383362\n",
            "epoch = 116 | validation accuracy = 0.9829059839248657\n",
            "epoch = 117 | validation accuracy = 0.9830508828163147\n",
            "epoch = 118 | validation accuracy = 0.9831932187080383\n",
            "epoch = 119 | validation accuracy = 0.9833333492279053\n",
            "epoch = 120 | validation accuracy = 0.9834710359573364\n",
            "epoch = 121 | validation accuracy = 0.9836065769195557\n"
          ]
        },
        {
          "output_type": "error",
          "ename": "KeyboardInterrupt",
          "evalue": "ignored",
          "traceback": [
            "\u001b[0;31m---------------------------------------------------------------------------\u001b[0m",
            "\u001b[0;31mKeyboardInterrupt\u001b[0m                         Traceback (most recent call last)",
            "\u001b[0;32m<ipython-input-25-3cf2d169fb42>\u001b[0m in \u001b[0;36m<module>\u001b[0;34m()\u001b[0m\n\u001b[0;32m----> 1\u001b[0;31m \u001b[0mtrained_model\u001b[0m \u001b[0;34m=\u001b[0m \u001b[0mtrain\u001b[0m\u001b[0;34m(\u001b[0m\u001b[0mhidden_dim\u001b[0m\u001b[0;34m=\u001b[0m\u001b[0;36m32\u001b[0m\u001b[0;34m,\u001b[0m \u001b[0mnb_layers\u001b[0m\u001b[0;34m=\u001b[0m\u001b[0;36m2\u001b[0m\u001b[0;34m,\u001b[0m \u001b[0mepochs\u001b[0m\u001b[0;34m=\u001b[0m\u001b[0;36m1\u001b[0m\u001b[0;34m,\u001b[0m \u001b[0mlearning_rate\u001b[0m\u001b[0;34m=\u001b[0m\u001b[0;36m0.001\u001b[0m\u001b[0;34m)\u001b[0m\u001b[0;34m\u001b[0m\u001b[0;34m\u001b[0m\u001b[0m\n\u001b[0m",
            "\u001b[0;32m<ipython-input-24-b870c06fdfe1>\u001b[0m in \u001b[0;36mtrain\u001b[0;34m(hidden_dim, nb_layers, epochs, learning_rate)\u001b[0m\n\u001b[1;32m     48\u001b[0m       \u001b[0mval_labels\u001b[0m\u001b[0;34m.\u001b[0m\u001b[0mappend\u001b[0m\u001b[0;34m(\u001b[0m\u001b[0mlabel\u001b[0m\u001b[0;34m)\u001b[0m\u001b[0;34m\u001b[0m\u001b[0;34m\u001b[0m\u001b[0m\n\u001b[1;32m     49\u001b[0m \u001b[0;34m\u001b[0m\u001b[0m\n\u001b[0;32m---> 50\u001b[0;31m       \u001b[0mval_accuracy\u001b[0m \u001b[0;34m=\u001b[0m \u001b[0maccuracy\u001b[0m\u001b[0;34m(\u001b[0m\u001b[0mjnp\u001b[0m\u001b[0;34m.\u001b[0m\u001b[0marray\u001b[0m\u001b[0;34m(\u001b[0m\u001b[0mval_preds\u001b[0m\u001b[0;34m)\u001b[0m\u001b[0;34m,\u001b[0m \u001b[0mjnp\u001b[0m\u001b[0;34m.\u001b[0m\u001b[0marray\u001b[0m\u001b[0;34m(\u001b[0m\u001b[0mval_labels\u001b[0m\u001b[0;34m)\u001b[0m\u001b[0;34m)\u001b[0m\u001b[0;34m\u001b[0m\u001b[0;34m\u001b[0m\u001b[0m\n\u001b[0m\u001b[1;32m     51\u001b[0m       \u001b[0mprint\u001b[0m\u001b[0;34m(\u001b[0m\u001b[0;34mf'epoch = {ep} | validation accuracy = {val_accuracy}'\u001b[0m\u001b[0;34m)\u001b[0m\u001b[0;34m\u001b[0m\u001b[0;34m\u001b[0m\u001b[0m\n\u001b[1;32m     52\u001b[0m       \u001b[0mep\u001b[0m \u001b[0;34m+=\u001b[0m \u001b[0;36m1\u001b[0m\u001b[0;34m\u001b[0m\u001b[0;34m\u001b[0m\u001b[0m\n",
            "\u001b[0;32m/usr/local/lib/python3.7/dist-packages/jax/_src/traceback_util.py\u001b[0m in \u001b[0;36mreraise_with_filtered_traceback\u001b[0;34m(*args, **kwargs)\u001b[0m\n\u001b[1;32m    160\u001b[0m     \u001b[0m__tracebackhide__\u001b[0m \u001b[0;34m=\u001b[0m \u001b[0;32mTrue\u001b[0m\u001b[0;34m\u001b[0m\u001b[0;34m\u001b[0m\u001b[0m\n\u001b[1;32m    161\u001b[0m     \u001b[0;32mtry\u001b[0m\u001b[0;34m:\u001b[0m\u001b[0;34m\u001b[0m\u001b[0;34m\u001b[0m\u001b[0m\n\u001b[0;32m--> 162\u001b[0;31m       \u001b[0;32mreturn\u001b[0m \u001b[0mfun\u001b[0m\u001b[0;34m(\u001b[0m\u001b[0;34m*\u001b[0m\u001b[0margs\u001b[0m\u001b[0;34m,\u001b[0m \u001b[0;34m**\u001b[0m\u001b[0mkwargs\u001b[0m\u001b[0;34m)\u001b[0m\u001b[0;34m\u001b[0m\u001b[0;34m\u001b[0m\u001b[0m\n\u001b[0m\u001b[1;32m    163\u001b[0m     \u001b[0;32mexcept\u001b[0m \u001b[0mException\u001b[0m \u001b[0;32mas\u001b[0m \u001b[0me\u001b[0m\u001b[0;34m:\u001b[0m\u001b[0;34m\u001b[0m\u001b[0;34m\u001b[0m\u001b[0m\n\u001b[1;32m    164\u001b[0m       \u001b[0mmode\u001b[0m \u001b[0;34m=\u001b[0m \u001b[0mfiltering_mode\u001b[0m\u001b[0;34m(\u001b[0m\u001b[0;34m)\u001b[0m\u001b[0;34m\u001b[0m\u001b[0;34m\u001b[0m\u001b[0m\n",
            "\u001b[0;32m/usr/local/lib/python3.7/dist-packages/jax/_src/api.py\u001b[0m in \u001b[0;36mcache_miss\u001b[0;34m(*args, **kwargs)\u001b[0m\n\u001b[1;32m    523\u001b[0m         \u001b[0mflat_fun\u001b[0m\u001b[0;34m,\u001b[0m \u001b[0;34m*\u001b[0m\u001b[0margs_flat\u001b[0m\u001b[0;34m,\u001b[0m\u001b[0;34m\u001b[0m\u001b[0;34m\u001b[0m\u001b[0m\n\u001b[1;32m    524\u001b[0m         \u001b[0mdevice\u001b[0m\u001b[0;34m=\u001b[0m\u001b[0mdevice\u001b[0m\u001b[0;34m,\u001b[0m \u001b[0mbackend\u001b[0m\u001b[0;34m=\u001b[0m\u001b[0mbackend\u001b[0m\u001b[0;34m,\u001b[0m \u001b[0mname\u001b[0m\u001b[0;34m=\u001b[0m\u001b[0mflat_fun\u001b[0m\u001b[0;34m.\u001b[0m\u001b[0m__name__\u001b[0m\u001b[0;34m,\u001b[0m\u001b[0;34m\u001b[0m\u001b[0;34m\u001b[0m\u001b[0m\n\u001b[0;32m--> 525\u001b[0;31m         donated_invars=donated_invars, inline=inline, keep_unused=keep_unused)\n\u001b[0m\u001b[1;32m    526\u001b[0m     \u001b[0mout_pytree_def\u001b[0m \u001b[0;34m=\u001b[0m \u001b[0mout_tree\u001b[0m\u001b[0;34m(\u001b[0m\u001b[0;34m)\u001b[0m\u001b[0;34m\u001b[0m\u001b[0;34m\u001b[0m\u001b[0m\n\u001b[1;32m    527\u001b[0m     \u001b[0mout\u001b[0m \u001b[0;34m=\u001b[0m \u001b[0mtree_unflatten\u001b[0m\u001b[0;34m(\u001b[0m\u001b[0mout_pytree_def\u001b[0m\u001b[0;34m,\u001b[0m \u001b[0mout_flat\u001b[0m\u001b[0;34m)\u001b[0m\u001b[0;34m\u001b[0m\u001b[0;34m\u001b[0m\u001b[0m\n",
            "\u001b[0;32m/usr/local/lib/python3.7/dist-packages/jax/core.py\u001b[0m in \u001b[0;36mbind\u001b[0;34m(self, fun, *args, **params)\u001b[0m\n\u001b[1;32m   1834\u001b[0m \u001b[0;34m\u001b[0m\u001b[0m\n\u001b[1;32m   1835\u001b[0m   \u001b[0;32mdef\u001b[0m \u001b[0mbind\u001b[0m\u001b[0;34m(\u001b[0m\u001b[0mself\u001b[0m\u001b[0;34m,\u001b[0m \u001b[0mfun\u001b[0m\u001b[0;34m,\u001b[0m \u001b[0;34m*\u001b[0m\u001b[0margs\u001b[0m\u001b[0;34m,\u001b[0m \u001b[0;34m**\u001b[0m\u001b[0mparams\u001b[0m\u001b[0;34m)\u001b[0m\u001b[0;34m:\u001b[0m\u001b[0;34m\u001b[0m\u001b[0;34m\u001b[0m\u001b[0m\n\u001b[0;32m-> 1836\u001b[0;31m     \u001b[0;32mreturn\u001b[0m \u001b[0mcall_bind\u001b[0m\u001b[0;34m(\u001b[0m\u001b[0mself\u001b[0m\u001b[0;34m,\u001b[0m \u001b[0mfun\u001b[0m\u001b[0;34m,\u001b[0m \u001b[0;34m*\u001b[0m\u001b[0margs\u001b[0m\u001b[0;34m,\u001b[0m \u001b[0;34m**\u001b[0m\u001b[0mparams\u001b[0m\u001b[0;34m)\u001b[0m\u001b[0;34m\u001b[0m\u001b[0;34m\u001b[0m\u001b[0m\n\u001b[0m\u001b[1;32m   1837\u001b[0m \u001b[0;34m\u001b[0m\u001b[0m\n\u001b[1;32m   1838\u001b[0m   \u001b[0;32mdef\u001b[0m \u001b[0mget_bind_params\u001b[0m\u001b[0;34m(\u001b[0m\u001b[0mself\u001b[0m\u001b[0;34m,\u001b[0m \u001b[0mparams\u001b[0m\u001b[0;34m)\u001b[0m\u001b[0;34m:\u001b[0m\u001b[0;34m\u001b[0m\u001b[0;34m\u001b[0m\u001b[0m\n",
            "\u001b[0;32m/usr/local/lib/python3.7/dist-packages/jax/core.py\u001b[0m in \u001b[0;36mcall_bind\u001b[0;34m(primitive, fun, *args, **params)\u001b[0m\n\u001b[1;32m   1850\u001b[0m   \u001b[0mtracers\u001b[0m \u001b[0;34m=\u001b[0m \u001b[0mmap\u001b[0m\u001b[0;34m(\u001b[0m\u001b[0mtop_trace\u001b[0m\u001b[0;34m.\u001b[0m\u001b[0mfull_raise\u001b[0m\u001b[0;34m,\u001b[0m \u001b[0margs\u001b[0m\u001b[0;34m)\u001b[0m\u001b[0;34m\u001b[0m\u001b[0;34m\u001b[0m\u001b[0m\n\u001b[1;32m   1851\u001b[0m   \u001b[0mfun_\u001b[0m \u001b[0;34m=\u001b[0m \u001b[0mlu\u001b[0m\u001b[0;34m.\u001b[0m\u001b[0mannotate\u001b[0m\u001b[0;34m(\u001b[0m\u001b[0mfun_\u001b[0m\u001b[0;34m,\u001b[0m \u001b[0mfun\u001b[0m\u001b[0;34m.\u001b[0m\u001b[0min_type\u001b[0m\u001b[0;34m)\u001b[0m\u001b[0;34m\u001b[0m\u001b[0;34m\u001b[0m\u001b[0m\n\u001b[0;32m-> 1852\u001b[0;31m   \u001b[0mouts\u001b[0m \u001b[0;34m=\u001b[0m \u001b[0mtop_trace\u001b[0m\u001b[0;34m.\u001b[0m\u001b[0mprocess_call\u001b[0m\u001b[0;34m(\u001b[0m\u001b[0mprimitive\u001b[0m\u001b[0;34m,\u001b[0m \u001b[0mfun_\u001b[0m\u001b[0;34m,\u001b[0m \u001b[0mtracers\u001b[0m\u001b[0;34m,\u001b[0m \u001b[0mparams\u001b[0m\u001b[0;34m)\u001b[0m\u001b[0;34m\u001b[0m\u001b[0;34m\u001b[0m\u001b[0m\n\u001b[0m\u001b[1;32m   1853\u001b[0m   \u001b[0;32mreturn\u001b[0m \u001b[0mmap\u001b[0m\u001b[0;34m(\u001b[0m\u001b[0mfull_lower\u001b[0m\u001b[0;34m,\u001b[0m \u001b[0mapply_todos\u001b[0m\u001b[0;34m(\u001b[0m\u001b[0menv_trace_todo\u001b[0m\u001b[0;34m(\u001b[0m\u001b[0;34m)\u001b[0m\u001b[0;34m,\u001b[0m \u001b[0mouts\u001b[0m\u001b[0;34m)\u001b[0m\u001b[0;34m)\u001b[0m\u001b[0;34m\u001b[0m\u001b[0;34m\u001b[0m\u001b[0m\n\u001b[1;32m   1854\u001b[0m \u001b[0;34m\u001b[0m\u001b[0m\n",
            "\u001b[0;32m/usr/local/lib/python3.7/dist-packages/jax/core.py\u001b[0m in \u001b[0;36mprocess_call\u001b[0;34m(self, primitive, f, tracers, params)\u001b[0m\n\u001b[1;32m    681\u001b[0m \u001b[0;34m\u001b[0m\u001b[0m\n\u001b[1;32m    682\u001b[0m   \u001b[0;32mdef\u001b[0m \u001b[0mprocess_call\u001b[0m\u001b[0;34m(\u001b[0m\u001b[0mself\u001b[0m\u001b[0;34m,\u001b[0m \u001b[0mprimitive\u001b[0m\u001b[0;34m,\u001b[0m \u001b[0mf\u001b[0m\u001b[0;34m,\u001b[0m \u001b[0mtracers\u001b[0m\u001b[0;34m,\u001b[0m \u001b[0mparams\u001b[0m\u001b[0;34m)\u001b[0m\u001b[0;34m:\u001b[0m\u001b[0;34m\u001b[0m\u001b[0;34m\u001b[0m\u001b[0m\n\u001b[0;32m--> 683\u001b[0;31m     \u001b[0;32mreturn\u001b[0m \u001b[0mprimitive\u001b[0m\u001b[0;34m.\u001b[0m\u001b[0mimpl\u001b[0m\u001b[0;34m(\u001b[0m\u001b[0mf\u001b[0m\u001b[0;34m,\u001b[0m \u001b[0;34m*\u001b[0m\u001b[0mtracers\u001b[0m\u001b[0;34m,\u001b[0m \u001b[0;34m**\u001b[0m\u001b[0mparams\u001b[0m\u001b[0;34m)\u001b[0m\u001b[0;34m\u001b[0m\u001b[0;34m\u001b[0m\u001b[0m\n\u001b[0m\u001b[1;32m    684\u001b[0m   \u001b[0mprocess_map\u001b[0m \u001b[0;34m=\u001b[0m \u001b[0mprocess_call\u001b[0m\u001b[0;34m\u001b[0m\u001b[0;34m\u001b[0m\u001b[0m\n\u001b[1;32m    685\u001b[0m \u001b[0;34m\u001b[0m\u001b[0m\n",
            "\u001b[0;32m/usr/local/lib/python3.7/dist-packages/jax/_src/dispatch.py\u001b[0m in \u001b[0;36m_xla_call_impl\u001b[0;34m(***failed resolving arguments***)\u001b[0m\n\u001b[1;32m    195\u001b[0m   \u001b[0marg_specs\u001b[0m \u001b[0;34m=\u001b[0m \u001b[0munsafe_map\u001b[0m\u001b[0;34m(\u001b[0m\u001b[0marg_spec\u001b[0m\u001b[0;34m,\u001b[0m \u001b[0margs\u001b[0m\u001b[0;34m)\u001b[0m\u001b[0;34m\u001b[0m\u001b[0;34m\u001b[0m\u001b[0m\n\u001b[1;32m    196\u001b[0m   compiled_fun = xla_callable(fun, device, backend, name, donated_invars,\n\u001b[0;32m--> 197\u001b[0;31m                               keep_unused, *arg_specs)\n\u001b[0m\u001b[1;32m    198\u001b[0m   \u001b[0;32mtry\u001b[0m\u001b[0;34m:\u001b[0m\u001b[0;34m\u001b[0m\u001b[0;34m\u001b[0m\u001b[0m\n\u001b[1;32m    199\u001b[0m     \u001b[0;32mreturn\u001b[0m \u001b[0mcompiled_fun\u001b[0m\u001b[0;34m(\u001b[0m\u001b[0;34m*\u001b[0m\u001b[0margs\u001b[0m\u001b[0;34m)\u001b[0m\u001b[0;34m\u001b[0m\u001b[0;34m\u001b[0m\u001b[0m\n",
            "\u001b[0;32m/usr/local/lib/python3.7/dist-packages/jax/linear_util.py\u001b[0m in \u001b[0;36mmemoized_fun\u001b[0;34m(fun, *args)\u001b[0m\n\u001b[1;32m    284\u001b[0m       \u001b[0mfun\u001b[0m\u001b[0;34m.\u001b[0m\u001b[0mpopulate_stores\u001b[0m\u001b[0;34m(\u001b[0m\u001b[0mstores\u001b[0m\u001b[0;34m)\u001b[0m\u001b[0;34m\u001b[0m\u001b[0;34m\u001b[0m\u001b[0m\n\u001b[1;32m    285\u001b[0m     \u001b[0;32melse\u001b[0m\u001b[0;34m:\u001b[0m\u001b[0;34m\u001b[0m\u001b[0;34m\u001b[0m\u001b[0m\n\u001b[0;32m--> 286\u001b[0;31m       \u001b[0mans\u001b[0m \u001b[0;34m=\u001b[0m \u001b[0mcall\u001b[0m\u001b[0;34m(\u001b[0m\u001b[0mfun\u001b[0m\u001b[0;34m,\u001b[0m \u001b[0;34m*\u001b[0m\u001b[0margs\u001b[0m\u001b[0;34m)\u001b[0m\u001b[0;34m\u001b[0m\u001b[0;34m\u001b[0m\u001b[0m\n\u001b[0m\u001b[1;32m    287\u001b[0m       \u001b[0mcache\u001b[0m\u001b[0;34m[\u001b[0m\u001b[0mkey\u001b[0m\u001b[0;34m]\u001b[0m \u001b[0;34m=\u001b[0m \u001b[0;34m(\u001b[0m\u001b[0mans\u001b[0m\u001b[0;34m,\u001b[0m \u001b[0mfun\u001b[0m\u001b[0;34m.\u001b[0m\u001b[0mstores\u001b[0m\u001b[0;34m)\u001b[0m\u001b[0;34m\u001b[0m\u001b[0;34m\u001b[0m\u001b[0m\n\u001b[1;32m    288\u001b[0m \u001b[0;34m\u001b[0m\u001b[0m\n",
            "\u001b[0;32m/usr/local/lib/python3.7/dist-packages/jax/_src/dispatch.py\u001b[0m in \u001b[0;36m_xla_callable_uncached\u001b[0;34m(fun, device, backend, name, donated_invars, keep_unused, *arg_specs)\u001b[0m\n\u001b[1;32m    244\u001b[0m                            donated_invars, keep_unused, *arg_specs):\n\u001b[1;32m    245\u001b[0m   return lower_xla_callable(fun, device, backend, name, donated_invars, False,\n\u001b[0;32m--> 246\u001b[0;31m                             keep_unused, *arg_specs).compile().unsafe_call\n\u001b[0m\u001b[1;32m    247\u001b[0m \u001b[0;34m\u001b[0m\u001b[0m\n\u001b[1;32m    248\u001b[0m \u001b[0mxla_callable\u001b[0m \u001b[0;34m=\u001b[0m \u001b[0mlu\u001b[0m\u001b[0;34m.\u001b[0m\u001b[0mcache\u001b[0m\u001b[0;34m(\u001b[0m\u001b[0m_xla_callable_uncached\u001b[0m\u001b[0;34m)\u001b[0m\u001b[0;34m\u001b[0m\u001b[0;34m\u001b[0m\u001b[0m\n",
            "\u001b[0;32m/usr/local/lib/python3.7/dist-packages/jax/_src/dispatch.py\u001b[0m in \u001b[0;36mcompile\u001b[0;34m(self)\u001b[0m\n\u001b[1;32m    808\u001b[0m         self._executable = XlaCompiledComputation.from_xla_computation(\n\u001b[1;32m    809\u001b[0m             \u001b[0mself\u001b[0m\u001b[0;34m.\u001b[0m\u001b[0mname\u001b[0m\u001b[0;34m,\u001b[0m \u001b[0mself\u001b[0m\u001b[0;34m.\u001b[0m\u001b[0m_hlo\u001b[0m\u001b[0;34m,\u001b[0m \u001b[0mself\u001b[0m\u001b[0;34m.\u001b[0m\u001b[0m_in_type\u001b[0m\u001b[0;34m,\u001b[0m \u001b[0mself\u001b[0m\u001b[0;34m.\u001b[0m\u001b[0m_out_type\u001b[0m\u001b[0;34m,\u001b[0m\u001b[0;34m\u001b[0m\u001b[0;34m\u001b[0m\u001b[0m\n\u001b[0;32m--> 810\u001b[0;31m             **self.compile_args)\n\u001b[0m\u001b[1;32m    811\u001b[0m \u001b[0;34m\u001b[0m\u001b[0m\n\u001b[1;32m    812\u001b[0m     \u001b[0;32mreturn\u001b[0m \u001b[0mself\u001b[0m\u001b[0;34m.\u001b[0m\u001b[0m_executable\u001b[0m\u001b[0;34m\u001b[0m\u001b[0;34m\u001b[0m\u001b[0m\n",
            "\u001b[0;32m/usr/local/lib/python3.7/dist-packages/jax/_src/dispatch.py\u001b[0m in \u001b[0;36mfrom_xla_computation\u001b[0;34m(name, xla_computation, in_type, out_type, nreps, device, backend, tuple_args, in_avals, out_avals, has_unordered_effects, ordered_effects, kept_var_idx, keepalive)\u001b[0m\n\u001b[1;32m    909\u001b[0m     with log_elapsed_time(f\"Finished XLA compilation of {name} \"\n\u001b[1;32m    910\u001b[0m                           \"in {elapsed_time} sec\"):\n\u001b[0;32m--> 911\u001b[0;31m       \u001b[0mcompiled\u001b[0m \u001b[0;34m=\u001b[0m \u001b[0mcompile_or_get_cached\u001b[0m\u001b[0;34m(\u001b[0m\u001b[0mbackend\u001b[0m\u001b[0;34m,\u001b[0m \u001b[0mxla_computation\u001b[0m\u001b[0;34m,\u001b[0m \u001b[0moptions\u001b[0m\u001b[0;34m)\u001b[0m\u001b[0;34m\u001b[0m\u001b[0;34m\u001b[0m\u001b[0m\n\u001b[0m\u001b[1;32m    912\u001b[0m     \u001b[0mbuffer_counts\u001b[0m \u001b[0;34m=\u001b[0m \u001b[0;34m[\u001b[0m\u001b[0maval_to_num_buffers\u001b[0m\u001b[0;34m(\u001b[0m\u001b[0maval\u001b[0m\u001b[0;34m)\u001b[0m \u001b[0;32mfor\u001b[0m \u001b[0maval\u001b[0m \u001b[0;32min\u001b[0m \u001b[0mout_avals\u001b[0m\u001b[0;34m]\u001b[0m\u001b[0;34m\u001b[0m\u001b[0;34m\u001b[0m\u001b[0m\n\u001b[1;32m    913\u001b[0m     \u001b[0;32mif\u001b[0m \u001b[0mordered_effects\u001b[0m \u001b[0;32mor\u001b[0m \u001b[0mhas_unordered_effects\u001b[0m\u001b[0;34m:\u001b[0m\u001b[0;34m\u001b[0m\u001b[0;34m\u001b[0m\u001b[0m\n",
            "\u001b[0;32m/usr/local/lib/python3.7/dist-packages/jax/_src/dispatch.py\u001b[0m in \u001b[0;36mcompile_or_get_cached\u001b[0;34m(backend, computation, compile_options)\u001b[0m\n\u001b[1;32m    870\u001b[0m       \u001b[0mir_str\u001b[0m \u001b[0;34m=\u001b[0m \u001b[0mcomputation\u001b[0m\u001b[0;34m\u001b[0m\u001b[0;34m\u001b[0m\u001b[0m\n\u001b[1;32m    871\u001b[0m     \u001b[0m_dump_ir_to_file\u001b[0m\u001b[0;34m(\u001b[0m\u001b[0mmodule_name\u001b[0m\u001b[0;34m,\u001b[0m \u001b[0mir_str\u001b[0m\u001b[0;34m)\u001b[0m\u001b[0;34m\u001b[0m\u001b[0;34m\u001b[0m\u001b[0m\n\u001b[0;32m--> 872\u001b[0;31m   \u001b[0;32mreturn\u001b[0m \u001b[0mbackend_compile\u001b[0m\u001b[0;34m(\u001b[0m\u001b[0mbackend\u001b[0m\u001b[0;34m,\u001b[0m \u001b[0mcomputation\u001b[0m\u001b[0;34m,\u001b[0m \u001b[0mcompile_options\u001b[0m\u001b[0;34m)\u001b[0m\u001b[0;34m\u001b[0m\u001b[0;34m\u001b[0m\u001b[0m\n\u001b[0m\u001b[1;32m    873\u001b[0m \u001b[0;34m\u001b[0m\u001b[0m\n\u001b[1;32m    874\u001b[0m \u001b[0;34m\u001b[0m\u001b[0m\n",
            "\u001b[0;32m/usr/local/lib/python3.7/dist-packages/jax/_src/profiler.py\u001b[0m in \u001b[0;36mwrapper\u001b[0;34m(*args, **kwargs)\u001b[0m\n\u001b[1;32m    310\u001b[0m   \u001b[0;32mdef\u001b[0m \u001b[0mwrapper\u001b[0m\u001b[0;34m(\u001b[0m\u001b[0;34m*\u001b[0m\u001b[0margs\u001b[0m\u001b[0;34m,\u001b[0m \u001b[0;34m**\u001b[0m\u001b[0mkwargs\u001b[0m\u001b[0;34m)\u001b[0m\u001b[0;34m:\u001b[0m\u001b[0;34m\u001b[0m\u001b[0;34m\u001b[0m\u001b[0m\n\u001b[1;32m    311\u001b[0m     \u001b[0;32mwith\u001b[0m \u001b[0mTraceAnnotation\u001b[0m\u001b[0;34m(\u001b[0m\u001b[0mname\u001b[0m\u001b[0;34m,\u001b[0m \u001b[0;34m**\u001b[0m\u001b[0mdecorator_kwargs\u001b[0m\u001b[0;34m)\u001b[0m\u001b[0;34m:\u001b[0m\u001b[0;34m\u001b[0m\u001b[0;34m\u001b[0m\u001b[0m\n\u001b[0;32m--> 312\u001b[0;31m       \u001b[0;32mreturn\u001b[0m \u001b[0mfunc\u001b[0m\u001b[0;34m(\u001b[0m\u001b[0;34m*\u001b[0m\u001b[0margs\u001b[0m\u001b[0;34m,\u001b[0m \u001b[0;34m**\u001b[0m\u001b[0mkwargs\u001b[0m\u001b[0;34m)\u001b[0m\u001b[0;34m\u001b[0m\u001b[0;34m\u001b[0m\u001b[0m\n\u001b[0m\u001b[1;32m    313\u001b[0m     \u001b[0;32mreturn\u001b[0m \u001b[0mwrapper\u001b[0m\u001b[0;34m\u001b[0m\u001b[0;34m\u001b[0m\u001b[0m\n\u001b[1;32m    314\u001b[0m   \u001b[0;32mreturn\u001b[0m \u001b[0mwrapper\u001b[0m\u001b[0;34m\u001b[0m\u001b[0;34m\u001b[0m\u001b[0m\n",
            "\u001b[0;32m/usr/local/lib/python3.7/dist-packages/jax/_src/dispatch.py\u001b[0m in \u001b[0;36mbackend_compile\u001b[0;34m(backend, built_c, options)\u001b[0m\n\u001b[1;32m    816\u001b[0m   \u001b[0;31m# we use a separate function call to ensure that XLA compilation appears\u001b[0m\u001b[0;34m\u001b[0m\u001b[0;34m\u001b[0m\u001b[0;34m\u001b[0m\u001b[0m\n\u001b[1;32m    817\u001b[0m   \u001b[0;31m# separately in Python profiling results\u001b[0m\u001b[0;34m\u001b[0m\u001b[0;34m\u001b[0m\u001b[0;34m\u001b[0m\u001b[0m\n\u001b[0;32m--> 818\u001b[0;31m   \u001b[0;32mreturn\u001b[0m \u001b[0mbackend\u001b[0m\u001b[0;34m.\u001b[0m\u001b[0mcompile\u001b[0m\u001b[0;34m(\u001b[0m\u001b[0mbuilt_c\u001b[0m\u001b[0;34m,\u001b[0m \u001b[0mcompile_options\u001b[0m\u001b[0;34m=\u001b[0m\u001b[0moptions\u001b[0m\u001b[0;34m)\u001b[0m\u001b[0;34m\u001b[0m\u001b[0;34m\u001b[0m\u001b[0m\n\u001b[0m\u001b[1;32m    819\u001b[0m \u001b[0;34m\u001b[0m\u001b[0m\n\u001b[1;32m    820\u001b[0m \u001b[0;31m# TODO(phawkins): update users.\u001b[0m\u001b[0;34m\u001b[0m\u001b[0;34m\u001b[0m\u001b[0;34m\u001b[0m\u001b[0m\n",
            "\u001b[0;31mKeyboardInterrupt\u001b[0m: "
          ]
        }
      ]
    },
    {
      "cell_type": "code",
      "source": [
        ""
      ],
      "metadata": {
        "id": "YifJh5U4vKpd"
      },
      "execution_count": null,
      "outputs": []
    }
  ]
}